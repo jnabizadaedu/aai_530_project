{
 "cells": [
  {
   "cell_type": "code",
   "execution_count": 1,
   "id": "b63c2fbf",
   "metadata": {},
   "outputs": [],
   "source": [
    "# Library Imports \n",
    "\n",
    "import pandas as pd # for dataframe \n",
    "import seaborn as sns # for seaborn visualizattion\n",
    "import matplotlib.pyplot as plt # for matplot visualization\n",
    "import numpy as np # for numerical computing\n",
    "from sklearn.preprocessing import StandardScaler # for data normalization\n",
    "from sklearn.model_selection import train_test_split # for data split\n"
   ]
  },
  {
   "cell_type": "markdown",
   "id": "789bba86",
   "metadata": {},
   "source": [
    "**Feature set description**\n",
    "\n",
    "|**Feature**         |**Description**|\n",
    "|----------------|:----------------|\n",
    "|Date Time       | year-month-day hour:minute:second   |\n",
    "|Appliances      | energy use in Wh|\n",
    "|lights          | energy use of light fixtures in the house in Wh|\n",
    "|T1              | Temperature in kitchen area, in Celsius|\n",
    "|RH_1            | Temperature in kitchen area, in Celsius|\n",
    "|T2              | Temperature in living room area, in Celsius\n",
    "|RH_2            | Humidity in living room area, in %\n",
    "|T3              | Temperature in laundry room area\n",
    "|RH_3            | Humidity in laundry room area, in %\n",
    "|T4              | Temperature in office room, in Celsius\n",
    "|RH_4            | Humidity in office room, in %\n",
    "|T5              | Temperature in bathroom, in Celsius\n",
    "|RH_5            | Humidity in bathroom, in %\n",
    "|T6              | Temperature outside the building (north side), in Celsius\n",
    "|RH_6            | Humidity outside the building (north side), in %\n",
    "|T7              | Temperature in ironing room , in Celsius\n",
    "|RH_7            | Humidity in ironing room, in %\n",
    "|T8              | Temperature in teenager room 2, in Celsius\n",
    "|RH_8            | Humidity in teenager room 2, in %\n",
    "|T9              | Temperature in parents room, in Celsius\n",
    "|RH_9            | Humidity in parents room, in %\n",
    "|To              | Temperature outside (from Chievres weather station), in Celsius\n",
    "|Pressure (from Chievres weather station) | in mm Hg\n",
    "|RH_out Humidity outside (from Chievres weather station) | in %\n",
    "|Wind speed (from Chievres weather station) | in m/s\n",
    "|Visibility (from Chievres weather station) | in km\n",
    "|Tdewpoint (from Chievres weather station) | Â°C\n",
    "|rv1 | Random variable 1 nondimensional\n",
    "|rv2 | Random variable 2 nondimensional\n"
   ]
  },
  {
   "cell_type": "code",
   "execution_count": null,
   "id": "5b20d072",
   "metadata": {},
   "outputs": [],
   "source": [
    "file_path = 'energydata_complete.csv'\n",
    "\n",
    "# Read our dataset into our dataframe\n",
    "df = pd.read_csv(file_path)\n",
    "\n",
    "# Print the head of the dataframe\n",
    "df.head()"
   ]
  },
  {
   "cell_type": "code",
   "execution_count": null,
   "id": "d26759b2",
   "metadata": {},
   "outputs": [],
   "source": [
    "# Check for missing values in the features\n",
    "df.isna().sum()\n"
   ]
  },
  {
   "cell_type": "markdown",
   "id": "cf02485c",
   "metadata": {},
   "source": [
    "Per our output, we see not missing values in the dataset. "
   ]
  },
  {
   "cell_type": "code",
   "execution_count": 4,
   "id": "7b178094",
   "metadata": {},
   "outputs": [],
   "source": [
    "# Conver date to Datetime format\n",
    "df['Datetime'] = pd.to_datetime(df['date'])"
   ]
  },
  {
   "cell_type": "code",
   "execution_count": null,
   "id": "6321e5c0",
   "metadata": {},
   "outputs": [],
   "source": [
    "# Verify our dataframe types \n",
    "df.dtypes"
   ]
  },
  {
   "cell_type": "code",
   "execution_count": 6,
   "id": "8fb670b8",
   "metadata": {},
   "outputs": [],
   "source": [
    "# Round all values to 2 decimal places for easier processing and formatting\n",
    "df = df.round(2)"
   ]
  },
  {
   "cell_type": "code",
   "execution_count": null,
   "id": "b0bc8919",
   "metadata": {},
   "outputs": [],
   "source": [
    "# Validate our rounding\n",
    "df.head()"
   ]
  },
  {
   "cell_type": "code",
   "execution_count": 8,
   "id": "72f75725",
   "metadata": {},
   "outputs": [],
   "source": [
    "# Drop the 'Date' column\n",
    "df = df.drop(columns=['date'])\n",
    "\n",
    "# Move the 'Datetime' column to the first position\n",
    "df = df[['Datetime'] + [col for col in df.columns if col != 'Datetime']]"
   ]
  },
  {
   "cell_type": "code",
   "execution_count": null,
   "id": "fec48a7c",
   "metadata": {},
   "outputs": [],
   "source": [
    "df.head()"
   ]
  },
  {
   "cell_type": "code",
   "execution_count": 10,
   "id": "2cfdd85d",
   "metadata": {},
   "outputs": [],
   "source": [
    "correlation_matrix = df.corr()"
   ]
  },
  {
   "cell_type": "code",
   "execution_count": null,
   "id": "5d8d79f8",
   "metadata": {},
   "outputs": [],
   "source": [
    "# Set up the figure size\n",
    "plt.figure(figsize=(12, 10))\n",
    "\n",
    "# Plot the heatmap\n",
    "sns.heatmap(correlation_matrix, annot=False, cmap='coolwarm', fmt=\".2f\", cbar=True)\n",
    "\n",
    "# Add titles and labels\n",
    "plt.title('Heatmap of Correlations Between Variables', fontsize=16)\n",
    "plt.xticks(rotation=45, ha='right')\n",
    "plt.yticks(rotation=0)\n",
    "plt.tight_layout()\n",
    "\n",
    "# Display the heatmap\n",
    "plt.show()"
   ]
  },
  {
   "cell_type": "markdown",
   "id": "6bf73670",
   "metadata": {},
   "source": [
    "The below features were chosen based on their strong correlation with Appliances (energy consumption) while avoiding redundant or weak predictors. <br>\n",
    "lights was included because lighting directly contributes to household energy use. Indoor temperature features (T1, T2) were selected as they <br>\n",
    "impact HVAC operations, which are a major factor in energy consumption. T_out (outdoor temperature) and Tdewpoint were chosen because external <br>\n",
    "weather conditions influence heating and cooling requirements inside the home. RH_out (outdoor humidity) and Windspeed were kept as they can affect <br>\n",
    "temperature regulation and ventilation needs. Finally, hour was included to capture daily energy usage patterns, as appliance consumption tends to <br>\n",
    "vary throughout the day. These features provide a balanced mix of internal conditions, external environmental influences, and time-based patterns, <br>\n",
    "ensuring the model captures key factors affecting energy consumption.\n",
    "\n",
    "|**Feature**         |**Description**|\n",
    "|----------------|:----------------|\n",
    "|lights                    | Directly affects energyh consumption  |\n",
    "|T1 (Kitchen Temp)         | Strong correlation with Appliances    |\n",
    "|T2 (Living Room Temp)     | Represents HVAC energy use            |\n",
    "|T_out (Outside Temp)      | External factor on energy consumption |\n",
    "|RH_out (Outdoor Humidity) | Impcasts cooling and heating          | \n",
    "|Windspeed                 | Influences temp reulation             | \n",
    "|Tdewpoint                 | Outdoor conditions                    | \n",
    "|hour                      | Captures time-based energy patterns   | "
   ]
  },
  {
   "cell_type": "code",
   "execution_count": null,
   "id": "af254f76",
   "metadata": {},
   "outputs": [],
   "source": [
    "# Plot a distribution of the energy consumption\n",
    "sns.histplot(df['Appliances'], bins=30, kde=True)\n",
    "plt.title(\"Appliances Energy Consumption Distribution\")\n",
    "plt.xlabel(\"Energy Consumption (Wh)\")\n",
    "plt.ylabel(\"Occurrence\")\n",
    "plt.show()\n"
   ]
  },
  {
   "cell_type": "markdown",
   "id": "54999a3a",
   "metadata": {},
   "source": [
    "1. We can see from our distribution plot for energy consumption that most of the consumption is < 200 Wh\n",
    "2. A sharp peak > 50 Wh < 100 Wh suggests many appliances consume low energy. \n",
    "3. We have a right skewed plot, dmeonstrating that anything > 400 Wh is rare. "
   ]
  },
  {
   "cell_type": "code",
   "execution_count": 13,
   "id": "5a683e24",
   "metadata": {},
   "outputs": [],
   "source": [
    "# Extract time-based features\n",
    "df['hour'] = df['Datetime'].dt.hour  # Extract hour of the day (0-23)\n"
   ]
  },
  {
   "cell_type": "code",
   "execution_count": null,
   "id": "f2d33e4c",
   "metadata": {},
   "outputs": [],
   "source": [
    "# Plot raw data (individual appliance consumption points)\n",
    "plt.figure(figsize=(10, 5))\n",
    "plt.scatter(df['hour'], df['Appliances'], alpha=0.3, color='blue', label=\"Appliance Energy Consumption\")\n",
    "\n",
    "# Overlay the 24-hour average trend\n",
    "hourly_avg = df.groupby('hour')['Appliances'].mean()\n",
    "plt.plot(hourly_avg.index, hourly_avg.values, marker='o', linestyle='-', color='red', label=\"Hourly Average\")\n",
    "\n",
    "# Plot our hourly average across the dataset\n",
    "plt.xlabel(\"Hour of the Day\")\n",
    "plt.ylabel(\"Energy Consumption (Wh)\")\n",
    "plt.title(\"Appliance Energy Consumption by Hour of the Day\")\n",
    "plt.legend()\n",
    "plt.grid()\n",
    "plt.show()"
   ]
  },
  {
   "cell_type": "markdown",
   "id": "f05ff3f2",
   "metadata": {},
   "source": [
    "The hourly average did not provide to strong of an insight. As expected, energy consumption is lowest during sleeping hours. <br>\n",
    "Early evening has the peak on average. "
   ]
  },
  {
   "cell_type": "code",
   "execution_count": 15,
   "id": "50e42094",
   "metadata": {},
   "outputs": [],
   "source": [
    "# Keep only the features we want in our dataframe\n",
    "df = df[['Appliances', 'lights', 'T1', 'T2', 'T_out', 'RH_out', 'Windspeed', 'Tdewpoint', 'hour']]"
   ]
  },
  {
   "cell_type": "code",
   "execution_count": 16,
   "id": "fea87554",
   "metadata": {},
   "outputs": [],
   "source": [
    "# Prepare our data for training\n",
    "scaler = StandardScaler()\n",
    "X_scaled = scaler.fit_transform(df.drop(columns=['Appliances']))\n",
    "y = df['Appliances']"
   ]
  },
  {
   "cell_type": "code",
   "execution_count": 17,
   "id": "e17708f7",
   "metadata": {},
   "outputs": [],
   "source": [
    "# Splitting our dataset into training and testing sets \n",
    "X_train, X_test, y_train, y_test = train_test_split(X_scaled, y, test_size=0.2, random_state=42)"
   ]
  }
 ],
 "metadata": {
  "kernelspec": {
   "display_name": "base",
   "language": "python",
   "name": "python3"
  },
  "language_info": {
   "codemirror_mode": {
    "name": "ipython",
    "version": 3
   },
   "file_extension": ".py",
   "mimetype": "text/x-python",
   "name": "python",
   "nbconvert_exporter": "python",
   "pygments_lexer": "ipython3",
   "version": "3.12.3"
  }
 },
 "nbformat": 4,
 "nbformat_minor": 5
}
